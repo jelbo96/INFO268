{
 "cells": [
  {
   "cell_type": "markdown",
   "metadata": {},
   "source": [
    "## 4. Ejercicios - TP\n",
    "\n",
    "1. Entrenar un modelo Word2Vec para el español. Se puede utilizar agrupar datasets de \"Sophia\" en un solo dataset grande: \n",
    "\n",
    "2. Entrenar un modelo Doc2Vec para el español.\n",
    "\n",
    "3. Utilizar representaciones Doc2Vec para volver a resolver tareas de clasificación y/o de topic modeling."
   ]
  },
  {
   "cell_type": "code",
   "execution_count": 11,
   "metadata": {},
   "outputs": [],
   "source": [
    "from gensim.models import word2vec"
   ]
  },
  {
   "cell_type": "code",
   "execution_count": 12,
   "metadata": {},
   "outputs": [],
   "source": [
    "sentences = word2vec.Text8Corpus('dataset-spanish.txt')"
   ]
  },
  {
   "cell_type": "code",
   "execution_count": 13,
   "metadata": {},
   "outputs": [],
   "source": [
    "model = word2vec.Word2Vec(sentences,size=200,hs=1)"
   ]
  },
  {
   "cell_type": "code",
   "execution_count": 14,
   "metadata": {},
   "outputs": [
    {
     "name": "stdout",
     "output_type": "stream",
     "text": [
      "Word2Vec(vocab=45846, size=200, alpha=0.025)\n"
     ]
    }
   ],
   "source": [
    "print(model)"
   ]
  },
  {
   "cell_type": "code",
   "execution_count": 15,
   "metadata": {},
   "outputs": [
    {
     "data": {
      "text/plain": [
       "[('patriarcado', 0.505092978477478),\n",
       " ('feminismo', 0.4967336654663086),\n",
       " ('imperio', 0.4939686954021454),\n",
       " ('racismo', 0.48572295904159546),\n",
       " ('marxismo', 0.4837108254432678),\n",
       " ('liberalismo', 0.46821367740631104),\n",
       " ('mercado', 0.4657927453517914),\n",
       " ('latifundio', 0.46214330196380615),\n",
       " ('paisaje', 0.42620614171028137),\n",
       " ('gob', 0.41448909044265747)]"
      ]
     },
     "execution_count": 15,
     "metadata": {},
     "output_type": "execute_result"
    }
   ],
   "source": [
    "model.wv.most_similar(positive=[\"capitalismo\"])"
   ]
  },
  {
   "cell_type": "code",
   "execution_count": 25,
   "metadata": {},
   "outputs": [
    {
     "data": {
      "text/plain": [
       "[('robos', 0.6348222494125366),\n",
       " ('hurto', 0.5993510484695435),\n",
       " ('Robo', 0.5800541639328003),\n",
       " ('homicidio', 0.5540263652801514),\n",
       " ('receptación', 0.5016460418701172),\n",
       " ('intrafamiliar', 0.5014028549194336),\n",
       " ('secuestro', 0.5001858472824097),\n",
       " ('porte', 0.4740626811981201),\n",
       " ('presunto', 0.45043087005615234),\n",
       " ('delito', 0.44888120889663696)]"
      ]
     },
     "execution_count": 25,
     "metadata": {},
     "output_type": "execute_result"
    }
   ],
   "source": [
    "model.wv.most_similar(positive=[\"robo\"])"
   ]
  },
  {
   "cell_type": "code",
   "execution_count": 30,
   "metadata": {},
   "outputs": [
    {
     "data": {
      "text/plain": [
       "[('Beccacece', 0.651425838470459),\n",
       " ('Piñera\"', 0.643847644329071),\n",
       " ('Dávalos', 0.6265056133270264),\n",
       " ('Mathews', 0.5733453035354614),\n",
       " ('Piñera”', 0.5639529824256897),\n",
       " ('Piñera;', 0.52090984582901),\n",
       " ('Depolo', 0.5052042603492737),\n",
       " ('irreparable', 0.49117666482925415),\n",
       " ('Piñera“', 0.48530733585357666),\n",
       " ('Piñera:', 0.4682084321975708)]"
      ]
     },
     "execution_count": 30,
     "metadata": {},
     "output_type": "execute_result"
    }
   ],
   "source": [
    "model.wv.most_similar(positive=[\"Piñera\"])"
   ]
  },
  {
   "cell_type": "code",
   "execution_count": 39,
   "metadata": {},
   "outputs": [
    {
     "data": {
      "text/plain": [
       "[('doloroso', 0.45001769065856934),\n",
       " ('elegante', 0.4292677044868469),\n",
       " ('sorprendente', 0.4288189709186554),\n",
       " ('lamentable', 0.4282662570476532),\n",
       " ('ingenuo', 0.42380291223526),\n",
       " ('interesante', 0.419661283493042),\n",
       " ('trágico', 0.40987542271614075),\n",
       " ('grande', 0.40770983695983887),\n",
       " ('terrible', 0.4014289379119873),\n",
       " ('complicada', 0.4004218578338623)]"
      ]
     },
     "execution_count": 39,
     "metadata": {},
     "output_type": "execute_result"
    }
   ],
   "source": [
    "model.wv.most_similar(positive=[\"triste\"])"
   ]
  },
  {
   "cell_type": "code",
   "execution_count": 43,
   "metadata": {},
   "outputs": [
    {
     "data": {
      "text/plain": [
       "[('calificado', 0.3795963227748871),\n",
       " ('agredida', 0.37817618250846863),\n",
       " ('expareja', 0.37766772508621216),\n",
       " ('anulada', 0.3754146695137024),\n",
       " ('empleada', 0.3732188642024994),\n",
       " ('dueña', 0.36977237462997437),\n",
       " ('misógino', 0.3689340353012085),\n",
       " ('condenada', 0.3658607602119446),\n",
       " ('guitarra', 0.36506187915802),\n",
       " ('uruguaya', 0.3647741973400116)]"
      ]
     },
     "execution_count": 43,
     "metadata": {},
     "output_type": "execute_result"
    }
   ],
   "source": [
    "model.wv.most_similar(positive=[\"agresora\"])"
   ]
  },
  {
   "cell_type": "code",
   "execution_count": 55,
   "metadata": {},
   "outputs": [
    {
     "data": {
      "text/plain": [
       "[('Florida', 0.5419630408287048),\n",
       " ('Reina', 0.5417735576629639),\n",
       " ('Habana', 0.51955646276474),\n",
       " ('intérprete', 0.5159505605697632),\n",
       " ('Cisterna', 0.49840548634529114),\n",
       " ('Jueza', 0.49251770973205566),\n",
       " ('Region', 0.48980051279067993),\n",
       " ('Legua', 0.48564302921295166),\n",
       " ('cabaña', 0.4799676537513733),\n",
       " ('Haya\"', 0.4780903160572052)]"
      ]
     },
     "execution_count": 55,
     "metadata": {},
     "output_type": "execute_result"
    }
   ],
   "source": [
    "model.wv.most_similar(positive=[\"Pintana\",\"evento\"])"
   ]
  },
  {
   "cell_type": "code",
   "execution_count": 47,
   "metadata": {},
   "outputs": [
    {
     "data": {
      "text/plain": [
       "[('suizo-alemanes', 0.4543112516403198),\n",
       " ('pescador', 0.4385858476161957),\n",
       " ('Delia', 0.43356770277023315),\n",
       " ('fallecido', 0.3997153639793396),\n",
       " ('nieto', 0.38912075757980347),\n",
       " ('adherente', 0.36887282133102417),\n",
       " ('agricultor', 0.3582512438297272),\n",
       " ('durísimo', 0.3566831350326538),\n",
       " ('cuasidelito', 0.3547099232673645),\n",
       " ('habitante', 0.35452449321746826)]"
      ]
     },
     "execution_count": 47,
     "metadata": {},
     "output_type": "execute_result"
    }
   ],
   "source": [
    "model.wv.most_similar(positive=[\"haitiano\"])"
   ]
  },
  {
   "cell_type": "code",
   "execution_count": 54,
   "metadata": {},
   "outputs": [
    {
     "data": {
      "text/plain": [
       "[('seminario', 0.5126992464065552),\n",
       " ('juez', 0.4841684103012085),\n",
       " ('procedimiento', 0.45909082889556885),\n",
       " ('tribunal', 0.4545656144618988),\n",
       " ('concurso', 0.4542984962463379),\n",
       " ('Juzgado', 0.45074862241744995),\n",
       " ('municipio', 0.4499172568321228),\n",
       " ('imputado', 0.4332399368286133),\n",
       " ('festival', 0.432892382144928),\n",
       " ('jurado', 0.42628389596939087)]"
      ]
     },
     "execution_count": 54,
     "metadata": {},
     "output_type": "execute_result"
    }
   ],
   "source": [
    "model.wv.most_similar(positive=[\"juzgado\",\"evento\"])"
   ]
  },
  {
   "cell_type": "code",
   "execution_count": null,
   "metadata": {},
   "outputs": [],
   "source": [
    "#Doc2Vec"
   ]
  },
  {
   "cell_type": "code",
   "execution_count": 57,
   "metadata": {},
   "outputs": [],
   "source": [
    "import gensim\n",
    "import os\n",
    "import collections\n",
    "import smart_open\n",
    "import random"
   ]
  },
  {
   "cell_type": "code",
   "execution_count": 59,
   "metadata": {},
   "outputs": [
    {
     "name": "stdout",
     "output_type": "stream",
     "text": [
      "train_noticias.cor\n",
      "test_noticias.cor\n"
     ]
    }
   ],
   "source": [
    "#test_data_dir ='{}'.format(os.sep).join([gensim.__path__[0],'test','test_data'])\n",
    "lee_train_file='train_noticias.cor'\n",
    "print(lee_train_file)\n",
    "lee_test_file='test_noticias.cor'\n",
    "print(lee_test_file)"
   ]
  },
  {
   "cell_type": "code",
   "execution_count": 65,
   "metadata": {},
   "outputs": [],
   "source": [
    "def read_corpus(file_name,tokens_only=False):\n",
    "    with smart_open.smart_open(file_name,encoding=\"utf-8\") as f:\n",
    "        for i, line in enumerate(f):\n",
    "            if tokens_only:\n",
    "                yield gensim.utils.simple_preprocess(line)\n",
    "            else:\n",
    "                # For training data, add tags\n",
    "                yield gensim.models.doc2vec.TaggedDocument(gensim.utils.simple_preprocess(line),[i])"
   ]
  },
  {
   "cell_type": "code",
   "execution_count": 66,
   "metadata": {},
   "outputs": [],
   "source": [
    "train_corpus = list(read_corpus(lee_train_file))\n",
    "test_corpus = list(read_corpus(lee_test_file,tokens_only=True))"
   ]
  },
  {
   "cell_type": "code",
   "execution_count": 67,
   "metadata": {},
   "outputs": [
    {
     "data": {
      "text/plain": [
       "[TaggedDocument(words=['la', 'gestión', 'de', 'la', 'presidenta', 'de', 'la', 'república', 'michelle', 'bachelet', 'alcanza', 'un', 'de', 'aprobación', 'tratándose', 'de', 'la', 'mejor', 'evaluación', 'de', 'los', 'últimos', 'dos', 'años', 'de', 'gobierno', 'de', 'acuerdo', 'la', 'encuesta', 'adimark', 'entregada', 'este', 'jueves', 'mientras', 'que', 'la', 'desaprobación', 'llegó', 'un', 'este', 'resultado', 'muestra', 'un', 'crecimiento', 'de', 'puntos', 'porcentuales', 'respecto', 'la', 'medición', 'anterior', 'con', 'ello', 'acumula', 'tres', 'alzas', 'consecutivas', 'luego', 'de', 'los', 'mínimos', 'del', 'verano', 'febrero', 'por', 'su', 'parte', 'el', 'gobierno', 'logra', 'una', 'más', 'modesta', 'alza', 'de', 'un', 'punto', 'pasando', 'de', 'de', 'aprobación', 'las', 'relaciones', 'internacionales', 'de', 'aprobación', 'se', 'mantiene', 'como', 'el', 'área', 'de', 'gestión', 'mejor', 'evaluada', 'del', 'gobierno', 'mientras', 'que', 'la', 'corrupción', 'desplaza', 'la', 'delincuencia', 'como', 'el', 'área', 'peor', 'evaluada', 'de', 'la', 'gestión', 'gubernamental', 'de', 'aprobación', 'en', 'un', 'mes', 'en', 'que', 'el', 'caso', 'de', 'carabineros', 'copó', 'la', 'agenda', 'informativa'], tags=[0]),\n",
       " TaggedDocument(words=['cnn', 'cable', 'news', 'network', 'turner', 'broadcasting', 'system', 'inc', 'all', 'rights', 'reserved', 'publicado', 'las', 'et', 'gmt', 'miércoles', 'marzo', 'los', 'analistas', 'iván', 'briscoe', 'froylán', 'enciso', 'comentan', 'el', 'informe', 'de', 'crisis', 'group', 'sobre', 'la', 'gravedad', 'de', 'la', 'criminalidad', 'violencia', 'corrupción', 'en', 'el', 'estado', 'mexicano', 'de', 'veracruz', 'durante', 'los', 'últimos', 'años', 'durante', 'los', 'gobiernos', 'de', 'los', 'priistas', 'fidel', 'herrera', 'javier', 'duarte', 'recibe', 'nuestro', 'newsletter', 'notificaciones', 'de', 'noticias', 'por', 'correo', 'electrónico', 'breaking', 'news', 'newsletter', 'comunicados', 'de', 'prensa', 'cnn', 'cable', 'news', 'network', 'turner', 'broadcasting', 'system', 'inc', 'all', 'rights', 'reserved'], tags=[1])]"
      ]
     },
     "execution_count": 67,
     "metadata": {},
     "output_type": "execute_result"
    }
   ],
   "source": [
    "#verificar que el dataset de train esta bien\n",
    "train_corpus[:2]"
   ]
  },
  {
   "cell_type": "code",
   "execution_count": 68,
   "metadata": {},
   "outputs": [
    {
     "data": {
      "text/plain": [
       "[['síguenos',\n",
       "  'en',\n",
       "  'imagen',\n",
       "  'de',\n",
       "  'referencia',\n",
       "  'foto',\n",
       "  'agencia',\n",
       "  'uno',\n",
       "  'carabineros',\n",
       "  'instaló',\n",
       "  'un',\n",
       "  'teléfono',\n",
       "  'especial',\n",
       "  'para',\n",
       "  'que',\n",
       "  'los',\n",
       "  'funcionarios',\n",
       "  'denuncien',\n",
       "  'la',\n",
       "  'corrupción',\n",
       "  'interna',\n",
       "  'el',\n",
       "  'aparato',\n",
       "  'es',\n",
       "  'administrado',\n",
       "  'por',\n",
       "  'la',\n",
       "  'dirección',\n",
       "  'nacional',\n",
       "  'de',\n",
       "  'inteligencia',\n",
       "  'policial',\n",
       "  'dipolcar',\n",
       "  'según',\n",
       "  'una',\n",
       "  'fuente',\n",
       "  'interna',\n",
       "  'citada',\n",
       "  'por',\n",
       "  'el',\n",
       "  'mercurio',\n",
       "  'permite',\n",
       "  'que',\n",
       "  'oficiales',\n",
       "  'funcionarios',\n",
       "  'de',\n",
       "  'nombramiento',\n",
       "  'institucional',\n",
       "  'reporten',\n",
       "  'cualquier',\n",
       "  'antecedente',\n",
       "  'conducta',\n",
       "  'sospechosa',\n",
       "  'relativa',\n",
       "  'infracciones',\n",
       "  'contra',\n",
       "  'la',\n",
       "  'probidad',\n",
       "  'como',\n",
       "  'el',\n",
       "  'uso',\n",
       "  'indebido',\n",
       "  'de',\n",
       "  'recursos',\n",
       "  'fiscales',\n",
       "  'directamente',\n",
       "  'actos',\n",
       "  'de',\n",
       "  'corrupción',\n",
       "  'el',\n",
       "  'número',\n",
       "  'ya',\n",
       "  'está',\n",
       "  'en',\n",
       "  'conocimiento',\n",
       "  'de',\n",
       "  'todas',\n",
       "  'las',\n",
       "  'reparticiones',\n",
       "  'funciona',\n",
       "  'las',\n",
       "  'horas',\n",
       "  'del',\n",
       "  'día',\n",
       "  'una',\n",
       "  'vez',\n",
       "  'recibidos',\n",
       "  'los',\n",
       "  'antecedentes',\n",
       "  'asuntos',\n",
       "  'internos',\n",
       "  'la',\n",
       "  'dipolcar',\n",
       "  'abren',\n",
       "  'una',\n",
       "  'investigación',\n",
       "  'para',\n",
       "  'confirmar',\n",
       "  'la',\n",
       "  'denuncia',\n",
       "  'si',\n",
       "  'se',\n",
       "  'comprueba',\n",
       "  'la',\n",
       "  'veracidad',\n",
       "  'del',\n",
       "  'llamado',\n",
       "  'los',\n",
       "  'acusados',\n",
       "  'son',\n",
       "  'pasados',\n",
       "  'los',\n",
       "  'tribunales',\n",
       "  'expulsados',\n",
       "  'de',\n",
       "  'la',\n",
       "  'institución',\n",
       "  'dependiendo',\n",
       "  'de',\n",
       "  'la',\n",
       "  'gravedad',\n",
       "  'del',\n",
       "  'caso'],\n",
       " ['el',\n",
       "  'senador',\n",
       "  'independiente',\n",
       "  'alejandro',\n",
       "  'guillier',\n",
       "  'apoyado',\n",
       "  'por',\n",
       "  'la',\n",
       "  'mayoría',\n",
       "  'de',\n",
       "  'los',\n",
       "  'partidos',\n",
       "  'de',\n",
       "  'la',\n",
       "  'nueva',\n",
       "  'mayoría',\n",
       "  'inscribió',\n",
       "  'hoy',\n",
       "  'su',\n",
       "  'candidatura',\n",
       "  'presidencial',\n",
       "  'en',\n",
       "  'el',\n",
       "  'servicio',\n",
       "  'electoral',\n",
       "  'servel',\n",
       "  'terminar',\n",
       "  'con',\n",
       "  'la',\n",
       "  'corrupción',\n",
       "  'en',\n",
       "  'chile',\n",
       "  'el',\n",
       "  'diagnóstico',\n",
       "  'es',\n",
       "  'claro',\n",
       "  'la',\n",
       "  'crisis',\n",
       "  'actual',\n",
       "  'es',\n",
       "  'una',\n",
       "  'crisis',\n",
       "  'ética',\n",
       "  'de',\n",
       "  'valores',\n",
       "  'de',\n",
       "  'no',\n",
       "  'creer',\n",
       "  'en',\n",
       "  'el',\n",
       "  'otro',\n",
       "  'de',\n",
       "  'saberse',\n",
       "  'abusado',\n",
       "  'agredido',\n",
       "  'en',\n",
       "  'el',\n",
       "  'diario',\n",
       "  'vivir',\n",
       "  'de',\n",
       "  'no',\n",
       "  'confiar',\n",
       "  'en',\n",
       "  'la',\n",
       "  'sociedad',\n",
       "  'en',\n",
       "  'la',\n",
       "  'que',\n",
       "  'vivimos',\n",
       "  'señaló',\n",
       "  'guillier',\n",
       "  'en',\n",
       "  'su',\n",
       "  'discurso',\n",
       "  'tras',\n",
       "  'cumplir',\n",
       "  'el',\n",
       "  'trámite',\n",
       "  'legal',\n",
       "  'en',\n",
       "  'esa',\n",
       "  'línea',\n",
       "  'el',\n",
       "  'candidato',\n",
       "  'manifestó',\n",
       "  'su',\n",
       "  'deseo',\n",
       "  'de',\n",
       "  'terminar',\n",
       "  'con',\n",
       "  'el',\n",
       "  'abuso',\n",
       "  'la',\n",
       "  'colusión',\n",
       "  'la',\n",
       "  'corrupción',\n",
       "  'también',\n",
       "  'crear',\n",
       "  'leyes',\n",
       "  'irrestrictas',\n",
       "  'para',\n",
       "  'la',\n",
       "  'defensa',\n",
       "  'de',\n",
       "  'la',\n",
       "  'transparencia',\n",
       "  'en',\n",
       "  'la',\n",
       "  'gestión',\n",
       "  'pública',\n",
       "  'en',\n",
       "  'el',\n",
       "  'desarrollo',\n",
       "  'privado',\n",
       "  'se',\n",
       "  'acabó',\n",
       "  'el',\n",
       "  'abuso',\n",
       "  'de',\n",
       "  'los',\n",
       "  'grandes',\n",
       "  'aseguró',\n",
       "  'quien',\n",
       "  'crea',\n",
       "  'que',\n",
       "  'con',\n",
       "  'solo',\n",
       "  'el',\n",
       "  'crecimiento',\n",
       "  'de',\n",
       "  'los',\n",
       "  'grandes',\n",
       "  'grupos',\n",
       "  'económicos',\n",
       "  'va',\n",
       "  'superar',\n",
       "  'los',\n",
       "  'problemas',\n",
       "  'de',\n",
       "  'chile',\n",
       "  'se',\n",
       "  'va',\n",
       "  'enfrentar',\n",
       "  'al',\n",
       "  'fantasma',\n",
       "  'de',\n",
       "  'la',\n",
       "  'ingobernanza',\n",
       "  'advirtió',\n",
       "  'el',\n",
       "  'problema',\n",
       "  'de',\n",
       "  'la',\n",
       "  'corrupción',\n",
       "  'en',\n",
       "  'chile',\n",
       "  'se',\n",
       "  'transformó',\n",
       "  'hace',\n",
       "  'dos',\n",
       "  'años',\n",
       "  'en',\n",
       "  'una',\n",
       "  'de',\n",
       "  'las',\n",
       "  'crisis',\n",
       "  'políticas',\n",
       "  'más',\n",
       "  'profundas',\n",
       "  'de',\n",
       "  'las',\n",
       "  'últimas',\n",
       "  'décadas',\n",
       "  'salpicó',\n",
       "  'la',\n",
       "  'oposición',\n",
       "  'al',\n",
       "  'oficialismo',\n",
       "  'los',\n",
       "  'empresarios',\n",
       "  'el',\n",
       "  'senador',\n",
       "  'independiente',\n",
       "  'deberá',\n",
       "  'enfrentarse',\n",
       "  'en',\n",
       "  'las',\n",
       "  'elecciones',\n",
       "  'del',\n",
       "  'próximo',\n",
       "  'de',\n",
       "  'noviembre',\n",
       "  'al',\n",
       "  'expresidente',\n",
       "  'sebastián',\n",
       "  'piñera',\n",
       "  'que',\n",
       "  'marcha',\n",
       "  'primero',\n",
       "  'en',\n",
       "  'los',\n",
       "  'sondeos',\n",
       "  'de',\n",
       "  'opinión',\n",
       "  'beatriz',\n",
       "  'sánchez',\n",
       "  'del',\n",
       "  'izquierdista',\n",
       "  'frente',\n",
       "  'amplio',\n",
       "  'la',\n",
       "  'democristiana',\n",
       "  'carolina',\n",
       "  'goic',\n",
       "  'otros',\n",
       "  'candidatos',\n",
       "  'que',\n",
       "  'prácticamente',\n",
       "  'no',\n",
       "  'figuran',\n",
       "  'en',\n",
       "  'los',\n",
       "  'sondeos',\n",
       "  'efe']]"
      ]
     },
     "execution_count": 68,
     "metadata": {},
     "output_type": "execute_result"
    }
   ],
   "source": [
    "#verificar que el dataset de test esta bien\n",
    "test_corpus[:2]"
   ]
  },
  {
   "cell_type": "code",
   "execution_count": 69,
   "metadata": {},
   "outputs": [
    {
     "name": "stderr",
     "output_type": "stream",
     "text": [
      "/home/jelbo/anaconda3/lib/python3.7/site-packages/gensim/models/doc2vec.py:362: UserWarning: The parameter `iter` is deprecated, will be removed in 4.0.0, use `epochs` instead.\n",
      "  warnings.warn(\"The parameter `iter` is deprecated, will be removed in 4.0.0, use `epochs` instead.\")\n",
      "/home/jelbo/anaconda3/lib/python3.7/site-packages/gensim/models/doc2vec.py:366: UserWarning: The parameter `size` is deprecated, will be removed in 4.0.0, use `vector_size` instead.\n",
      "  warnings.warn(\"The parameter `size` is deprecated, will be removed in 4.0.0, use `vector_size` instead.\")\n"
     ]
    }
   ],
   "source": [
    "#instanciar el modelo doc2vec\n",
    "model = gensim.models.doc2vec.Doc2Vec(size=50, min_count=2, iter=40)"
   ]
  },
  {
   "cell_type": "code",
   "execution_count": 70,
   "metadata": {},
   "outputs": [],
   "source": [
    "#construir el vocabulario\n",
    "model.build_vocab(train_corpus)"
   ]
  },
  {
   "cell_type": "code",
   "execution_count": 73,
   "metadata": {},
   "outputs": [
    {
     "data": {
      "text/plain": [
       "57"
      ]
     },
     "execution_count": 73,
     "metadata": {},
     "output_type": "execute_result"
    }
   ],
   "source": [
    "model.wv.vocab['piñera'].count"
   ]
  },
  {
   "cell_type": "code",
   "execution_count": 74,
   "metadata": {},
   "outputs": [
    {
     "name": "stderr",
     "output_type": "stream",
     "text": [
      "/home/jelbo/anaconda3/lib/python3.7/site-packages/ipykernel_launcher.py:2: DeprecationWarning: Call to deprecated `iter` (Attribute will be removed in 4.0.0, use self.epochs instead).\n",
      "  \n"
     ]
    }
   ],
   "source": [
    "#entrenar el modelo\n",
    "model.train(train_corpus, total_examples=model.corpus_count, epochs=model.iter)"
   ]
  },
  {
   "cell_type": "code",
   "execution_count": 76,
   "metadata": {},
   "outputs": [],
   "source": [
    "ranks = []\n",
    "second_ranks = []\n",
    "for doc_id in range(len(train_corpus)):\n",
    "    inferred_vector = model.infer_vector(train_corpus[doc_id].words)\n",
    "    sims = model.docvecs.most_similar([inferred_vector], topn=len(model.docvecs))\n",
    "    rank = [docid for docid, sim in sims].index(doc_id)\n",
    "    ranks.append(rank)\n",
    "    \n",
    "    second_ranks.append(sims[1])"
   ]
  },
  {
   "cell_type": "code",
   "execution_count": 89,
   "metadata": {},
   "outputs": [
    {
     "name": "stdout",
     "output_type": "stream",
     "text": [
      "Train Document (171): «más de máscaras pintadas de rojo permanecen hoy sábado de mayo de en la playa copacabana en río de janeiro brasil para pedir la renuncia del presidente de brasil michel temer envuelto en un grave escándalo de corrupción denunciar la baja cualificación de sus políticos máscaras fueron depositadas hoy sobre la arena de la exótica playa carioca en referencia los diputados federales senadores del presidente temer en una original protesta iniciativa de la ong río de paz efe efe efe efe te invitamos comentar participar de esta discusión todo comentario que atente contra los derechos humanos se centre en la grosería para descalificar no será admitido en el presente espacio de debate ciudadano loreto recoleta santiago de chile fono contacto elciudadanocl»\n",
      "\n",
      "Similar Document (139, 0.8753528594970703): «la manifestación inicialmente era contra las reformas de corte liberal impulsadas por el gobierno pero tras conocerse los asuntos de corrupción agregaron la consigna fuera temer gestión regional de medios contáctenos anunciar en este sitio términos condiciones autolocalcl emol valor futuro farox guioteca inmobiliaria propiedades hoyxhoycl pronto recibirás nuestros correos suscríbete al newsletter de soychilecl entérate de lo que sucede en tu ciudad en chile el mundo elige tu ciudad cuándo quieres recibir nuestro newsletter»\n",
      "\n"
     ]
    }
   ],
   "source": [
    "# Pick a random document from the test corpus and infer a vector from the model\n",
    "doc_id = random.randint(0, len(train_corpus) - 1)\n",
    "\n",
    "# Compare and print the most/median/least similar documents from the train corpus\n",
    "print('Train Document ({}): «{}»\\n'.format(doc_id, ' '.join(train_corpus[doc_id].words)))\n",
    "sim_id = second_ranks[doc_id]\n",
    "print('Similar Document {}: «{}»\\n'.format(sim_id, ' '.join(train_corpus[sim_id[0]].words)))"
   ]
  },
  {
   "cell_type": "code",
   "execution_count": null,
   "metadata": {},
   "outputs": [],
   "source": []
  }
 ],
 "metadata": {
  "kernelspec": {
   "display_name": "Python 3",
   "language": "python",
   "name": "python3"
  },
  "language_info": {
   "codemirror_mode": {
    "name": "ipython",
    "version": 3
   },
   "file_extension": ".py",
   "mimetype": "text/x-python",
   "name": "python",
   "nbconvert_exporter": "python",
   "pygments_lexer": "ipython3",
   "version": "3.7.3"
  }
 },
 "nbformat": 4,
 "nbformat_minor": 2
}
