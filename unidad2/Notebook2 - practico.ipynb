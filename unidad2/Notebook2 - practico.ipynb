{
 "cells": [
  {
   "cell_type": "code",
   "execution_count": 3,
   "metadata": {},
   "outputs": [
    {
     "name": "stderr",
     "output_type": "stream",
     "text": [
      "[nltk_data] Error loading stopwords: <urlopen error [Errno -3]\n",
      "[nltk_data]     Temporary failure in name resolution>\n",
      "/home/jelbo/anaconda3/lib/python3.7/site-packages/smart_open/ssh.py:34: UserWarning: paramiko missing, opening SSH/SCP/SFTP paths will be disabled.  `pip install paramiko` to suppress\n",
      "  warnings.warn('paramiko missing, opening SSH/SCP/SFTP paths will be disabled.  `pip install paramiko` to suppress')\n"
     ]
    }
   ],
   "source": [
    "import nltk; nltk.download('stopwords')\n",
    "\n",
    "import spacy\n",
    "nlp = spacy.load('es_core_news_sm', disable=['parser', 'ner'])\n",
    "\n",
    "import re\n",
    "import numpy as np\n",
    "import pandas as pd\n",
    "from pprint import pprint\n",
    "\n",
    "# Gensim\n",
    "import gensim\n",
    "import gensim.corpora as corpora\n",
    "from gensim.utils import simple_preprocess\n",
    "from gensim.models import CoherenceModel\n",
    "\n",
    "# Plotting tools\n",
    "import pyLDAvis\n",
    "import pyLDAvis.gensim  # don't skip this\n",
    "import matplotlib.pyplot as plt\n",
    "%matplotlib inline\n",
    "\n",
    "import warnings\n",
    "warnings.filterwarnings(\"ignore\",category=DeprecationWarning)"
   ]
  },
  {
   "cell_type": "code",
   "execution_count": 4,
   "metadata": {},
   "outputs": [
    {
     "name": "stdout",
     "output_type": "stream",
     "text": [
      "hola\n"
     ]
    }
   ],
   "source": [
    "print(\"hola\")"
   ]
  },
  {
   "cell_type": "code",
   "execution_count": 5,
   "metadata": {},
   "outputs": [
    {
     "data": {
      "text/html": [
       "<div>\n",
       "<style scoped>\n",
       "    .dataframe tbody tr th:only-of-type {\n",
       "        vertical-align: middle;\n",
       "    }\n",
       "\n",
       "    .dataframe tbody tr th {\n",
       "        vertical-align: top;\n",
       "    }\n",
       "\n",
       "    .dataframe thead th {\n",
       "        text-align: right;\n",
       "    }\n",
       "</style>\n",
       "<table border=\"1\" class=\"dataframe\">\n",
       "  <thead>\n",
       "    <tr style=\"text-align: right;\">\n",
       "      <th></th>\n",
       "      <th>0</th>\n",
       "      <th>1</th>\n",
       "      <th>2</th>\n",
       "      <th>3</th>\n",
       "    </tr>\n",
       "  </thead>\n",
       "  <tbody>\n",
       "    <tr>\n",
       "      <th>0</th>\n",
       "      <td>2017-05-23 10:33:41</td>\n",
       "      <td>Cooperativa</td>\n",
       "      <td>[Fotos] Mira las portadas de Vanity Fair para...</td>\n",
       "      <td>1 de 4 Vanity Fair La revista Vanity Fair la...</td>\n",
       "    </tr>\n",
       "    <tr>\n",
       "      <th>1</th>\n",
       "      <td>2017-06-01 13:50:01</td>\n",
       "      <td>elmostrador</td>\n",
       "      <td>[VIDEO] Una improvisada graduación en el metr...</td>\n",
       "      <td>Santiago Jueves, 1 de junio de 2017 Actualiza...</td>\n",
       "    </tr>\n",
       "    <tr>\n",
       "      <th>2</th>\n",
       "      <td>2017-03-02 21:45:28</td>\n",
       "      <td>Cooperativa</td>\n",
       "      <td>[Fotos] \"La Celebración o el Drama del Paraís...</td>\n",
       "      <td>2 ATON Entre el 3 el 5 de marzo se presentar...</td>\n",
       "    </tr>\n",
       "    <tr>\n",
       "      <th>3</th>\n",
       "      <td>2017-03-02 21:57:54</td>\n",
       "      <td>Cooperativa</td>\n",
       "      <td>[Fotos] La protesta de taxis y colectivos de ...</td>\n",
       "      <td>1 de 5 ATON Taxis y colectivos de Valparaiso...</td>\n",
       "    </tr>\n",
       "    <tr>\n",
       "      <th>4</th>\n",
       "      <td>2017-03-03 00:38:36</td>\n",
       "      <td>24HorasTVN</td>\n",
       "      <td>Vía Pública - jueves 2 de marzo - Vía Pública...</td>\n",
       "      <td>En la edición de hoy revisamos las noticias m...</td>\n",
       "    </tr>\n",
       "  </tbody>\n",
       "</table>\n",
       "</div>"
      ],
      "text/plain": [
       "                      0              1  \\\n",
       "0  2017-05-23 10:33:41    Cooperativa    \n",
       "1  2017-06-01 13:50:01    elmostrador    \n",
       "2  2017-03-02 21:45:28    Cooperativa    \n",
       "3  2017-03-02 21:57:54    Cooperativa    \n",
       "4  2017-03-03 00:38:36     24HorasTVN    \n",
       "\n",
       "                                                   2  \\\n",
       "0   [Fotos] Mira las portadas de Vanity Fair para...   \n",
       "1   [VIDEO] Una improvisada graduación en el metr...   \n",
       "2   [Fotos] \"La Celebración o el Drama del Paraís...   \n",
       "3   [Fotos] La protesta de taxis y colectivos de ...   \n",
       "4   Vía Pública - jueves 2 de marzo - Vía Pública...   \n",
       "\n",
       "                                                   3  \n",
       "0    1 de 4 Vanity Fair La revista Vanity Fair la...  \n",
       "1   Santiago Jueves, 1 de junio de 2017 Actualiza...  \n",
       "2    2 ATON Entre el 3 el 5 de marzo se presentar...  \n",
       "3    1 de 5 ATON Taxis y colectivos de Valparaiso...  \n",
       "4   En la edición de hoy revisamos las noticias m...  "
      ]
     },
     "execution_count": 5,
     "metadata": {},
     "output_type": "execute_result"
    }
   ],
   "source": [
    "DATASET_CSV=\"MAD_tecnologia1.csv\"\n",
    "\n",
    "df = pd.read_csv(DATASET_CSV,sep='|',error_bad_lines=False,header=None)\n",
    "\n",
    "df.head(5)"
   ]
  },
  {
   "cell_type": "code",
   "execution_count": 6,
   "metadata": {},
   "outputs": [
    {
     "name": "stdout",
     "output_type": "stream",
     "text": [
      "2156\n"
     ]
    }
   ],
   "source": [
    "largo = df.shape[0]\n",
    "print(largo)"
   ]
  },
  {
   "cell_type": "code",
   "execution_count": 7,
   "metadata": {},
   "outputs": [],
   "source": [
    "df.rename(columns={0:'fecha_hora',1:'nombre_medio',2:'titulo',3:'contenido'}, inplace=True)"
   ]
  },
  {
   "cell_type": "code",
   "execution_count": 8,
   "metadata": {},
   "outputs": [
    {
     "data": {
      "text/plain": [
       "Index(['fecha_hora', 'nombre_medio', 'titulo', 'contenido'], dtype='object')"
      ]
     },
     "execution_count": 8,
     "metadata": {},
     "output_type": "execute_result"
    }
   ],
   "source": [
    "df.columns"
   ]
  },
  {
   "cell_type": "code",
   "execution_count": 9,
   "metadata": {},
   "outputs": [],
   "source": [
    "# NLTK Stop words\n",
    "from nltk.corpus import stopwords\n",
    "stop_words = stopwords.words('spanish')"
   ]
  },
  {
   "cell_type": "code",
   "execution_count": 10,
   "metadata": {},
   "outputs": [
    {
     "name": "stdout",
     "output_type": "stream",
     "text": [
      "[' 1 de 4 Vanity Fair La revista Vanity Fair lanzó cuatro portadas para '\n",
      " 'celebrar los 40 años de \"Star Wars\" donde aparece el elenco de la próxima '\n",
      " 'cinta, \"The Last Jedi\". Todas Cultura Deportes Economía Entretención Mundo '\n",
      " 'País Sociedad Tecnología En la versión móvil de cooperativa.cl vea todas las '\n",
      " 'noticias en el instante en que suceden. Reciba directamente en su correo '\n",
      " 'electrónico los últimos titulares de cooperativa.cl Reciba gratis y en '\n",
      " 'tiempo real las noticias de cooperativa.cl Reciba gratis y en tiempo real el '\n",
      " 'audio digital de los programas radiales Síguenos en Facebook Síguenos en '\n",
      " 'Twitter']\n"
     ]
    }
   ],
   "source": [
    "# Convert to list\n",
    "data = df.contenido.values.tolist()\n",
    "\n",
    "# Remove new line characters\n",
    "data = [re.sub('\\s+', ' ', sent) for sent in data]\n",
    "\n",
    "# Remove distracting single quotes\n",
    "data = [re.sub(\"\\'\", \"\", sent) for sent in data]\n",
    "\n",
    "pprint(data[:1])"
   ]
  },
  {
   "cell_type": "code",
   "execution_count": 11,
   "metadata": {},
   "outputs": [
    {
     "name": "stdout",
     "output_type": "stream",
     "text": [
      "[['de', 'vanity', 'fair', 'la', 'revista', 'vanity', 'fair', 'lanzo', 'cuatro', 'portadas', 'para', 'celebrar', 'los', 'anos', 'de', 'star', 'wars', 'donde', 'aparece', 'el', 'elenco', 'de', 'la', 'proxima', 'cinta', 'the', 'last', 'jedi', 'todas', 'cultura', 'deportes', 'economia', 'entretencion', 'mundo', 'pais', 'sociedad', 'tecnologia', 'en', 'la', 'version', 'movil', 'de', 'cooperativa', 'cl', 'vea', 'todas', 'las', 'noticias', 'en', 'el', 'instante', 'en', 'que', 'suceden', 'reciba', 'directamente', 'en', 'su', 'correo', 'electronico', 'los', 'ultimos', 'titulares', 'de', 'cooperativa', 'cl', 'reciba', 'gratis', 'en', 'tiempo', 'real', 'las', 'noticias', 'de', 'cooperativa', 'cl', 'reciba', 'gratis', 'en', 'tiempo', 'real', 'el', 'audio', 'digital', 'de', 'los', 'programas', 'radiales', 'siguenos', 'en', 'facebook', 'siguenos', 'en', 'twitter']]\n"
     ]
    }
   ],
   "source": [
    "#Tokenizar en palabras y limpieza\n",
    "def sent_to_words(sentences):\n",
    "    for sentence in sentences:\n",
    "        yield(gensim.utils.simple_preprocess(str(sentence), deacc=True))  # deacc=True removes punctuations\n",
    "\n",
    "data_words = list(sent_to_words(data))\n",
    "\n",
    "print(data_words[:1])"
   ]
  },
  {
   "cell_type": "code",
   "execution_count": 12,
   "metadata": {},
   "outputs": [
    {
     "name": "stderr",
     "output_type": "stream",
     "text": [
      "/home/jelbo/anaconda3/lib/python3.7/site-packages/gensim/models/phrases.py:494: UserWarning: For a faster implementation, use the gensim.models.phrases.Phraser class\n",
      "  warnings.warn(\"For a faster implementation, use the gensim.models.phrases.Phraser class\")\n"
     ]
    },
    {
     "name": "stdout",
     "output_type": "stream",
     "text": [
      "['de', 'vanity', 'fair', 'la', 'revista', 'vanity', 'fair', 'lanzo', 'cuatro', 'portadas', 'para', 'celebrar', 'los', 'anos', 'de', 'star', 'wars', 'donde', 'aparece', 'el', 'elenco', 'de', 'la', 'proxima', 'cinta', 'the', 'last', 'jedi', 'todas', 'cultura', 'deportes', 'economia', 'entretencion', 'mundo', 'pais', 'sociedad', 'tecnologia', 'en', 'la', 'version', 'movil', 'de', 'cooperativa', 'cl', 'vea', 'todas', 'las', 'noticias', 'en', 'el', 'instante', 'en', 'que', 'suceden', 'reciba', 'directamente', 'en', 'su', 'correo', 'electronico', 'los', 'ultimos', 'titulares', 'de', 'cooperativa', 'cl', 'reciba', 'gratis', 'en', 'tiempo', 'real', 'las', 'noticias', 'de', 'cooperativa', 'cl', 'reciba', 'gratis', 'en', 'tiempo', 'real', 'el', 'audio', 'digital', 'de', 'los', 'programas', 'radiales', 'siguenos', 'en', 'facebook', 'siguenos', 'en', 'twitter']\n"
     ]
    }
   ],
   "source": [
    "# Build the bigram and trigram models\n",
    "bigram = gensim.models.Phrases(data_words, min_count=5, threshold=100) # higher threshold fewer phrases.\n",
    "trigram = gensim.models.Phrases(bigram[data_words], threshold=100)  \n",
    "\n",
    "# Faster way to get a sentence clubbed as a trigram/bigram\n",
    "bigram_mod = gensim.models.phrases.Phraser(bigram)\n",
    "trigram_mod = gensim.models.phrases.Phraser(trigram)\n",
    "\n",
    "# See trigram example\n",
    "print(trigram_mod[bigram_mod[data_words[0]]])"
   ]
  },
  {
   "cell_type": "code",
   "execution_count": 13,
   "metadata": {},
   "outputs": [],
   "source": [
    "# Define functions for stopwords, bigrams, trigrams and lemmatization\n",
    "def remove_stopwords(texts):\n",
    "    return [[word for word in simple_preprocess(str(doc)) if word not in stop_words] for doc in texts]\n",
    "\n",
    "def make_bigrams(texts):\n",
    "    return [bigram_mod[doc] for doc in texts]\n",
    "\n",
    "#def make_trigrams(texts):\n",
    "#    return [trigram_mod[bigram_mod[doc]] for doc in texts]\n",
    "\n",
    "def lemmatization(texts, allowed_postags=['NOUN', 'ADJ', 'VERB', 'ADV']):\n",
    "    \"\"\"https://spacy.io/api/annotation\"\"\"\n",
    "    texts_out = []\n",
    "    for sent in texts:\n",
    "        doc = nlp(\" \".join(sent)) \n",
    "        texts_out.append([token.lemma_ for token in doc if token.pos_ in allowed_postags])\n",
    "    return texts_out"
   ]
  },
  {
   "cell_type": "code",
   "execution_count": 14,
   "metadata": {},
   "outputs": [
    {
     "name": "stdout",
     "output_type": "stream",
     "text": [
      "[['vanity', 'fair', 'revistar', 'vanity', 'fair', 'lanzar', 'portar', 'celebrar', 'ano', 'star', 'wars', 'aparecer', 'elenco', 'proxima', 'cintar', 'last', 'jedi', 'cultura', 'deporte', 'economia', 'entretencion', 'mundo', 'pais', 'sociedad', 'tecnologia', 'version', 'movil', 'cooperativo', 'ver', 'noticiar', 'instante', 'suceder', 'recibir', 'directamente', 'correar', 'electronico', 'ultimos', 'titular', 'cooperativo', 'recibir', 'tiempo', 'real', 'noticiar', 'cooperativo', 'recibir', 'tiempo', 'real', 'audio', 'digital', 'programar', 'radial', 'siguenos', 'facebook', 'siguenos', 'twitter']]\n"
     ]
    }
   ],
   "source": [
    "# Remove Stop Words\n",
    "data_words_nostops = remove_stopwords(data_words)\n",
    "\n",
    "# Form Bigrams\n",
    "#data_words_bigrams = make_bigrams(data_words_nostops)\n",
    "\n",
    "# Do lemmatization keeping only noun, adj, vb, adv\n",
    "data_lemmatized = lemmatization(data_words_nostops, allowed_postags=['NOUN', 'ADJ', 'VERB', 'ADV'])\n",
    "\n",
    "print(data_lemmatized[:1])"
   ]
  },
  {
   "cell_type": "code",
   "execution_count": 15,
   "metadata": {},
   "outputs": [
    {
     "name": "stdout",
     "output_type": "stream",
     "text": [
      "[[(0, 1), (1, 1), (2, 1), (3, 1), (4, 1), (5, 3), (6, 1), (7, 1), (8, 1), (9, 1), (10, 1), (11, 1), (12, 1), (13, 1), (14, 1), (15, 1), (16, 2), (17, 1), (18, 1), (19, 1), (20, 1), (21, 1), (22, 1), (23, 2), (24, 1), (25, 1), (26, 1), (27, 1), (28, 1), (29, 2), (30, 3), (31, 1), (32, 2), (33, 1), (34, 1), (35, 1), (36, 1), (37, 2), (38, 1), (39, 1), (40, 1), (41, 2), (42, 1), (43, 1), (44, 1)]]\n"
     ]
    }
   ],
   "source": [
    "# Create Dictionary\n",
    "id2word = corpora.Dictionary(data_lemmatized)\n",
    "\n",
    "# Create Corpus\n",
    "texts = data_lemmatized\n",
    "\n",
    "# Term Document Frequency\n",
    "corpus = [id2word.doc2bow(text) for text in texts]\n",
    "\n",
    "# View\n",
    "print(corpus[:1])"
   ]
  },
  {
   "cell_type": "code",
   "execution_count": 16,
   "metadata": {},
   "outputs": [],
   "source": [
    "# Build LDA model\n",
    "lda_model = gensim.models.ldamodel.LdaModel(corpus=corpus,\n",
    "                                           id2word=id2word,\n",
    "                                           num_topics=10, \n",
    "                                           random_state=100,\n",
    "                                           update_every=1,\n",
    "                                           chunksize=100,\n",
    "                                           passes=10,\n",
    "                                           alpha='auto',\n",
    "                                           per_word_topics=True)"
   ]
  },
  {
   "cell_type": "code",
   "execution_count": 17,
   "metadata": {},
   "outputs": [
    {
     "name": "stdout",
     "output_type": "stream",
     "text": [
      "[(0,\n",
      "  '0.027*\"tecnologia\" + 0.017*\"loading\" + 0.015*\"mas\" + 0.010*\"mundo\" + '\n",
      "  '0.007*\"conectar\" + 0.007*\"inteligente\" + 0.007*\"working\" + '\n",
      "  '0.007*\"desarrollar\" + 0.007*\"dato\" + 0.007*\"permitir\" + 0.006*\"hacer\" + '\n",
      "  '0.006*\"problema\" + 0.006*\"decir\" + 0.005*\"ahora\" + 0.005*\"solo\" + '\n",
      "  '0.005*\"ejemplo\" + 0.005*\"tambien\" + 0.005*\"usar\" + 0.005*\"personar\" + '\n",
      "  '0.005*\"artificial\"'),\n",
      " (1,\n",
      "  '0.015*\"televisor\" + 0.014*\"tecnologia\" + 0.013*\"pantalla\" + 0.012*\"web\" + '\n",
      "  '0.012*\"pudrir\" + 0.011*\"aqui\" + 0.011*\"desarrollar\" + 0.011*\"mas\" + '\n",
      "  '0.011*\"disenado\" + 0.011*\"inteligencia\" + 0.011*\"derecho\" + 0.011*\"sitiar\" '\n",
      "  '+ 0.010*\"controlar\" + 0.010*\"recomendar\" + 0.009*\"asistir\" + 0.009*\"sesion\" '\n",
      "  '+ 0.009*\"iniciar\" + 0.009*\"reservar\" + 0.009*\"imagen\" + 0.008*\"venir\"'),\n",
      " (2,\n",
      "  '0.051*\"ciudad\" + 0.044*\"newsletter\" + 0.025*\"terminos\" + 0.024*\"propiedad\" '\n",
      "  '+ 0.024*\"chile\" + 0.024*\"condicionar\" + 0.023*\"pronto\" + 0.023*\"elegir\" + '\n",
      "  '0.023*\"querer\" + 0.023*\"mundo\" + 0.023*\"futuro\" + 0.023*\"anunciar\" + '\n",
      "  '0.023*\"valor\" + 0.023*\"sitiar\" + 0.022*\"enterate\" + 0.022*\"emol\" + '\n",
      "  '0.022*\"correo\" + 0.022*\"inmobiliario\" + 0.022*\"soychile\" + '\n",
      "  '0.022*\"recibiras\"'),\n",
      " (3,\n",
      "  '0.022*\"tecnologia\" + 0.020*\"normal\" + 0.012*\"usar\" + 0.012*\"mas\" + '\n",
      "  '0.008*\"mundial\" + 0.008*\"decir\" + 0.008*\"hacer\" + 0.008*\"historia\" + '\n",
      "  '0.008*\"gol\" + 0.006*\"cambiar\" + 0.006*\"utilizar\" + 0.006*\"trabajar\" + '\n",
      "  '0.005*\"tambien\" + 0.005*\"ano\" + 0.005*\"mujer\" + 0.005*\"formar\" + '\n",
      "  '0.005*\"vivir\" + 0.005*\"jugador\" + 0.004*\"pasar\" + 0.004*\"linear\"'),\n",
      " (4,\n",
      "  '0.027*\"tecnologia\" + 0.009*\"ano\" + 0.008*\"nuevo\" + 0.008*\"diciembre\" + '\n",
      "  '0.007*\"red\" + 0.006*\"millón\" + 0.006*\"mas\" + 0.006*\"ninos\" + '\n",
      "  '0.006*\"internet\" + 0.006*\"usuario\" + 0.006*\"velocidad\" + 0.005*\"apple\" + '\n",
      "  '0.005*\"plaza\" + 0.005*\"compania\" + 0.005*\"permitir\" + 0.005*\"noviembre\" + '\n",
      "  '0.005*\"comenzar\" + 0.005*\"virtual\" + 0.005*\"pasar\" + 0.005*\"mejor\"'),\n",
      " (5,\n",
      "  '0.032*\"tecnologia\" + 0.029*\"usuario\" + 0.027*\"valor\" + 0.022*\"mostrador\" + '\n",
      "  '0.021*\"derecho\" + 0.021*\"reservar\" + 0.018*\"betazeta\" + 0.016*\"futbol\" + '\n",
      "  '0.015*\"santiago\" + 0.014*\"actualizar\" + 0.011*\"metro\" + 0.009*\"sitiar\" + '\n",
      "  '0.008*\"auto\" + 0.008*\"registrar\" + 0.008*\"videojuego\" + 0.008*\"niubie\" + '\n",
      "  '0.008*\"espanol\" + 0.008*\"motor\" + 0.007*\"international\" + 0.007*\"marcar\"'),\n",
      " (6,\n",
      "  '0.049*\"ciencia\" + 0.020*\"tecnologia\" + 0.016*\"desarrollar\" + '\n",
      "  '0.015*\"actividad\" + 0.013*\"nacional\" + 0.012*\"proyectar\" + 0.011*\"region\" + '\n",
      "  '0.011*\"iniciativo\" + 0.010*\"congreso\" + 0.010*\"ministerio\" + '\n",
      "  '0.010*\"regional\" + 0.010*\"comunidad\" + 0.009*\"investigacion\" + '\n",
      "  '0.008*\"octubre\" + 0.008*\"innovacion\" + 0.008*\"escolar\" + 0.007*\"trabajar\" + '\n",
      "  '0.007*\"universidad\" + 0.006*\"realizar\" + 0.006*\"organizar\"'),\n",
      " (7,\n",
      "  '0.027*\"tecnologia\" + 0.015*\"mas\" + 0.013*\"chile\" + 0.013*\"nuevo\" + '\n",
      "  '0.008*\"partir\" + 0.007*\"empresa\" + 0.007*\"mayor\" + 0.006*\"tener\" + '\n",
      "  '0.006*\"ademar\" + 0.006*\"futuro\" + 0.006*\"publicar\" + 0.006*\"proyectar\" + '\n",
      "  '0.006*\"tambien\" + 0.005*\"millón\" + 0.005*\"generar\" + 0.005*\"energia\" + '\n",
      "  '0.005*\"sera\" + 0.005*\"llevar\" + 0.005*\"sistema\" + 0.005*\"importante\"'),\n",
      " (8,\n",
      "  '0.018*\"jugar\" + 0.014*\"contactar\" + 0.013*\"contener\" + 0.010*\"estilar\" + '\n",
      "  '0.010*\"television\" + 0.009*\"mayar\" + 0.009*\"superar\" + 0.009*\"proponer\" + '\n",
      "  '0.008*\"chino\" + 0.008*\"museo\" + 0.008*\"jovenes\" + 0.008*\"ultimar\" + '\n",
      "  '0.007*\"modelar\" + 0.007*\"dejar\" + 0.007*\"presentar\" + 0.007*\"facial\" + '\n",
      "  '0.007*\"cocinar\" + 0.007*\"pulgada\" + 0.006*\"colo\" + 0.006*\"nuevo\"'),\n",
      " (9,\n",
      "  '0.064*\"cooperativo\" + 0.054*\"recibir\" + 0.038*\"noticiar\" + 0.037*\"tiempo\" + '\n",
      "  '0.037*\"real\" + 0.036*\"siguenos\" + 0.024*\"mundo\" + 0.024*\"pais\" + '\n",
      "  '0.024*\"deporte\" + 0.023*\"entretencion\" + 0.021*\"radiar\" + 0.020*\"cultura\" + '\n",
      "  '0.019*\"ver\" + 0.019*\"twitter\" + 0.019*\"movil\" + 0.019*\"digital\" + '\n",
      "  '0.019*\"facebook\" + 0.019*\"ultimos\" + 0.019*\"programar\" + 0.019*\"sociedad\"')]\n"
     ]
    }
   ],
   "source": [
    "# Print the Keyword in the 10 topics\n",
    "pprint(lda_model.print_topics(num_words=20))\n",
    "doc_lda = lda_model[corpus]"
   ]
  },
  {
   "cell_type": "code",
   "execution_count": 19,
   "metadata": {},
   "outputs": [],
   "source": [
    "def compute_coherence_values(dictionary, corpus, texts, limit, start=2, step=1):\n",
    "    \"\"\"\n",
    "    Compute c_v coherence for various number of topics\n",
    "\n",
    "    Parameters:\n",
    "    ----------\n",
    "    dictionary : Gensim dictionary\n",
    "    corpus : Gensim corpus\n",
    "    texts : List of input texts\n",
    "    limit : Max num of topics\n",
    "\n",
    "    Returns:\n",
    "    -------\n",
    "    model_list : List of LDA topic models\n",
    "    coherence_values : Coherence values corresponding to the LDA model with respective number of topics\n",
    "    \"\"\"\n",
    "    coherence_values = []\n",
    "    model_list = []\n",
    "    for num_topics in range(start, limit, step):\n",
    "        model = gensim.models.ldamodel.LdaModel(corpus=corpus,\n",
    "                                           id2word=id2word,\n",
    "                                           num_topics=3, \n",
    "                                           random_state=100,\n",
    "                                           update_every=1,\n",
    "                                           chunksize=100,\n",
    "                                           passes=3,\n",
    "                                           alpha='auto',\n",
    "                                           per_word_topics=True)\n",
    "        model_list.append(model)\n",
    "        coherencemodel = CoherenceModel(model=model, texts=texts, dictionary=dictionary, coherence='c_v')\n",
    "        coherence_values.append(coherencemodel.get_coherence())\n",
    "\n",
    "    return model_list, coherence_values"
   ]
  },
  {
   "cell_type": "code",
   "execution_count": 20,
   "metadata": {},
   "outputs": [],
   "source": [
    "# Can take a long time to run.\n",
    "model_list, coherence_values = compute_coherence_values(dictionary=id2word, corpus=corpus, texts=data_lemmatized, start=2, limit=10, step=1)"
   ]
  },
  {
   "cell_type": "code",
   "execution_count": 21,
   "metadata": {},
   "outputs": [
    {
     "name": "stdout",
     "output_type": "stream",
     "text": [
      "[(0,\n",
      "  '0.059*\"cooperativo\" + 0.050*\"recibir\" + 0.034*\"noticiar\" + 0.034*\"siguenos\" '\n",
      "  '+ 0.034*\"tiempo\" + 0.033*\"real\" + 0.022*\"deporte\" + 0.021*\"mundo\" + '\n",
      "  '0.021*\"pais\" + 0.021*\"entretencion\"'),\n",
      " (1,\n",
      "  '0.025*\"tecnologia\" + 0.012*\"mas\" + 0.006*\"nuevo\" + 0.006*\"ciencia\" + '\n",
      "  '0.005*\"desarrollar\" + 0.005*\"ano\" + 0.004*\"hacer\" + 0.004*\"tambien\" + '\n",
      "  '0.004*\"chile\" + 0.004*\"usar\"'),\n",
      " (2,\n",
      "  '0.025*\"ciudad\" + 0.020*\"newsletter\" + 0.020*\"tecnologia\" + 0.019*\"valor\" + '\n",
      "  '0.013*\"chile\" + 0.013*\"sitiar\" + 0.012*\"futuro\" + 0.012*\"mundo\" + '\n",
      "  '0.011*\"querer\" + 0.011*\"anunciar\"')]\n"
     ]
    }
   ],
   "source": [
    "optimal_model = model_list[3]\n",
    "model_topics = optimal_model.show_topics(formatted=False)\n",
    "pprint(optimal_model.print_topics(num_words=10))"
   ]
  },
  {
   "cell_type": "code",
   "execution_count": 22,
   "metadata": {},
   "outputs": [],
   "source": [
    "# Can take a long time to run.\n",
    "model_list, coherence_values = compute_coherence_values(dictionary=id2word, corpus=corpus, texts=data_lemmatized, start=2, limit=15, step=1)"
   ]
  },
  {
   "cell_type": "code",
   "execution_count": 23,
   "metadata": {},
   "outputs": [
    {
     "data": {
      "image/png": "[encoded data removed]",
      "text/plain": [
       "<Figure size 432x288 with 1 Axes>"
      ]
     },
     "metadata": {
      "needs_background": "light"
     },
     "output_type": "display_data"
    }
   ],
   "source": [
    "# Show graph\n",
    "limit=15; start=2; step=1;\n",
    "x = range(start, limit, step)\n",
    "plt.plot(x, coherence_values)\n",
    "plt.xlabel(\"Num Topics\")\n",
    "plt.ylabel(\"Coherence score\")\n",
    "plt.legend((\"coherence_values\"), loc='best')\n",
    "plt.show()"
   ]
  },
  {
   "cell_type": "code",
   "execution_count": 24,
   "metadata": {},
   "outputs": [],
   "source": [
    "#El maximo de la coherencia esta en 3\n",
    "# Build LDA model\n",
    "lda_model = gensim.models.ldamodel.LdaModel(corpus=corpus,\n",
    "                                           id2word=id2word,\n",
    "                                           num_topics=3, \n",
    "                                           random_state=100,\n",
    "                                           update_every=1,\n",
    "                                           chunksize=100,\n",
    "                                           passes=10,\n",
    "                                           alpha='auto',\n",
    "                                           per_word_topics=True)"
   ]
  },
  {
   "cell_type": "code",
   "execution_count": 25,
   "metadata": {},
   "outputs": [
    {
     "name": "stdout",
     "output_type": "stream",
     "text": [
      "[(0,\n",
      "  '0.059*\"cooperativo\" + 0.050*\"recibir\" + 0.034*\"noticiar\" + 0.034*\"siguenos\" '\n",
      "  '+ 0.034*\"tiempo\" + 0.034*\"real\" + 0.022*\"deporte\" + 0.021*\"mundo\" + '\n",
      "  '0.021*\"pais\" + 0.021*\"entretencion\" + 0.019*\"radiar\" + 0.018*\"twitter\" + '\n",
      "  '0.017*\"facebook\" + 0.017*\"correar\" + 0.017*\"cultura\" + 0.017*\"titular\" + '\n",
      "  '0.017*\"ver\" + 0.017*\"electronico\" + 0.017*\"digital\" + 0.017*\"version\"'),\n",
      " (1,\n",
      "  '0.025*\"tecnologia\" + 0.011*\"mas\" + 0.006*\"nuevo\" + 0.006*\"ciencia\" + '\n",
      "  '0.005*\"desarrollar\" + 0.004*\"ano\" + 0.004*\"hacer\" + 0.004*\"chile\" + '\n",
      "  '0.004*\"tambien\" + 0.004*\"usar\" + 0.003*\"partir\" + 0.003*\"empresa\" + '\n",
      "  '0.003*\"mundo\" + 0.003*\"proyectar\" + 0.003*\"decir\" + 0.003*\"permitir\" + '\n",
      "  '0.003*\"santiago\" + 0.003*\"millón\" + 0.003*\"trabajar\" + 0.002*\"sistema\"'),\n",
      " (2,\n",
      "  '0.025*\"ciudad\" + 0.022*\"newsletter\" + 0.020*\"valor\" + 0.019*\"tecnologia\" + '\n",
      "  '0.014*\"sitiar\" + 0.014*\"chile\" + 0.012*\"mundo\" + 0.012*\"terminos\" + '\n",
      "  '0.012*\"futuro\" + 0.012*\"propiedad\" + 0.012*\"anunciar\" + 0.012*\"querer\" + '\n",
      "  '0.011*\"pronto\" + 0.011*\"elegir\" + 0.011*\"recibir\" + 0.011*\"condicionar\" + '\n",
      "  '0.011*\"enterate\" + 0.011*\"suceder\" + 0.011*\"emol\" + 0.011*\"correo\"')]\n"
     ]
    }
   ],
   "source": [
    "# Print the Keyword in the 3 topics\n",
    "pprint(lda_model.print_topics(num_words=20))\n",
    "doc_lda = lda_model[corpus]"
   ]
  },
  {
   "cell_type": "code",
   "execution_count": 26,
   "metadata": {},
   "outputs": [
    {
     "data": {
      "text/html": [
       "<div>\n",
       "<style scoped>\n",
       "    .dataframe tbody tr th:only-of-type {\n",
       "        vertical-align: middle;\n",
       "    }\n",
       "\n",
       "    .dataframe tbody tr th {\n",
       "        vertical-align: top;\n",
       "    }\n",
       "\n",
       "    .dataframe thead th {\n",
       "        text-align: right;\n",
       "    }\n",
       "</style>\n",
       "<table border=\"1\" class=\"dataframe\">\n",
       "  <thead>\n",
       "    <tr style=\"text-align: right;\">\n",
       "      <th></th>\n",
       "      <th>Document_No</th>\n",
       "      <th>Dominant_Topic</th>\n",
       "      <th>Topic_Perc_Contrib</th>\n",
       "      <th>Keywords</th>\n",
       "      <th>Text</th>\n",
       "    </tr>\n",
       "  </thead>\n",
       "  <tbody>\n",
       "    <tr>\n",
       "      <th>0</th>\n",
       "      <td>0</td>\n",
       "      <td>0.0</td>\n",
       "      <td>0.9963</td>\n",
       "      <td>cooperativo, recibir, noticiar, siguenos, tiem...</td>\n",
       "      <td>1 de 4 Vanity Fair La revista Vanity Fair lan...</td>\n",
       "    </tr>\n",
       "    <tr>\n",
       "      <th>1</th>\n",
       "      <td>1</td>\n",
       "      <td>1.0</td>\n",
       "      <td>0.6816</td>\n",
       "      <td>tecnologia, mas, nuevo, ciencia, desarrollar, ...</td>\n",
       "      <td>Santiago Jueves, 1 de junio de 2017 Actualiza...</td>\n",
       "    </tr>\n",
       "    <tr>\n",
       "      <th>2</th>\n",
       "      <td>2</td>\n",
       "      <td>0.0</td>\n",
       "      <td>0.9957</td>\n",
       "      <td>cooperativo, recibir, noticiar, siguenos, tiem...</td>\n",
       "      <td>2 ATON Entre el 3 el 5 de marzo se presentará...</td>\n",
       "    </tr>\n",
       "    <tr>\n",
       "      <th>3</th>\n",
       "      <td>3</td>\n",
       "      <td>0.0</td>\n",
       "      <td>0.8650</td>\n",
       "      <td>cooperativo, recibir, noticiar, siguenos, tiem...</td>\n",
       "      <td>1 de 5 ATON Taxis y colectivos de Valparaiso ...</td>\n",
       "    </tr>\n",
       "    <tr>\n",
       "      <th>4</th>\n",
       "      <td>4</td>\n",
       "      <td>1.0</td>\n",
       "      <td>0.8689</td>\n",
       "      <td>tecnologia, mas, nuevo, ciencia, desarrollar, ...</td>\n",
       "      <td>En la edición de hoy revisamos las noticias m...</td>\n",
       "    </tr>\n",
       "    <tr>\n",
       "      <th>5</th>\n",
       "      <td>5</td>\n",
       "      <td>0.0</td>\n",
       "      <td>0.9371</td>\n",
       "      <td>cooperativo, recibir, noticiar, siguenos, tiem...</td>\n",
       "      <td>2 Photosport Colo Colo ya tiene su oncena par...</td>\n",
       "    </tr>\n",
       "    <tr>\n",
       "      <th>6</th>\n",
       "      <td>6</td>\n",
       "      <td>0.0</td>\n",
       "      <td>0.9959</td>\n",
       "      <td>cooperativo, recibir, noticiar, siguenos, tiem...</td>\n",
       "      <td>3 EFE Las victorias de San Antonio Spurs ante...</td>\n",
       "    </tr>\n",
       "    <tr>\n",
       "      <th>7</th>\n",
       "      <td>7</td>\n",
       "      <td>0.0</td>\n",
       "      <td>0.9293</td>\n",
       "      <td>cooperativo, recibir, noticiar, siguenos, tiem...</td>\n",
       "      <td>2 ATON La Presidenta de la República, Michell...</td>\n",
       "    </tr>\n",
       "    <tr>\n",
       "      <th>8</th>\n",
       "      <td>8</td>\n",
       "      <td>0.0</td>\n",
       "      <td>0.9190</td>\n",
       "      <td>cooperativo, recibir, noticiar, siguenos, tiem...</td>\n",
       "      <td>2 EFE Este martes, Andy Murray tuvo un estren...</td>\n",
       "    </tr>\n",
       "    <tr>\n",
       "      <th>9</th>\n",
       "      <td>9</td>\n",
       "      <td>0.0</td>\n",
       "      <td>0.9961</td>\n",
       "      <td>cooperativo, recibir, noticiar, siguenos, tiem...</td>\n",
       "      <td>3 EFE Varios actores ya han desfilado por la ...</td>\n",
       "    </tr>\n",
       "  </tbody>\n",
       "</table>\n",
       "</div>"
      ],
      "text/plain": [
       "   Document_No  Dominant_Topic  Topic_Perc_Contrib  \\\n",
       "0            0             0.0              0.9963   \n",
       "1            1             1.0              0.6816   \n",
       "2            2             0.0              0.9957   \n",
       "3            3             0.0              0.8650   \n",
       "4            4             1.0              0.8689   \n",
       "5            5             0.0              0.9371   \n",
       "6            6             0.0              0.9959   \n",
       "7            7             0.0              0.9293   \n",
       "8            8             0.0              0.9190   \n",
       "9            9             0.0              0.9961   \n",
       "\n",
       "                                            Keywords  \\\n",
       "0  cooperativo, recibir, noticiar, siguenos, tiem...   \n",
       "1  tecnologia, mas, nuevo, ciencia, desarrollar, ...   \n",
       "2  cooperativo, recibir, noticiar, siguenos, tiem...   \n",
       "3  cooperativo, recibir, noticiar, siguenos, tiem...   \n",
       "4  tecnologia, mas, nuevo, ciencia, desarrollar, ...   \n",
       "5  cooperativo, recibir, noticiar, siguenos, tiem...   \n",
       "6  cooperativo, recibir, noticiar, siguenos, tiem...   \n",
       "7  cooperativo, recibir, noticiar, siguenos, tiem...   \n",
       "8  cooperativo, recibir, noticiar, siguenos, tiem...   \n",
       "9  cooperativo, recibir, noticiar, siguenos, tiem...   \n",
       "\n",
       "                                                Text  \n",
       "0   1 de 4 Vanity Fair La revista Vanity Fair lan...  \n",
       "1   Santiago Jueves, 1 de junio de 2017 Actualiza...  \n",
       "2   2 ATON Entre el 3 el 5 de marzo se presentará...  \n",
       "3   1 de 5 ATON Taxis y colectivos de Valparaiso ...  \n",
       "4   En la edición de hoy revisamos las noticias m...  \n",
       "5   2 Photosport Colo Colo ya tiene su oncena par...  \n",
       "6   3 EFE Las victorias de San Antonio Spurs ante...  \n",
       "7   2 ATON La Presidenta de la República, Michell...  \n",
       "8   2 EFE Este martes, Andy Murray tuvo un estren...  \n",
       "9   3 EFE Varios actores ya han desfilado por la ...  "
      ]
     },
     "execution_count": 26,
     "metadata": {},
     "output_type": "execute_result"
    }
   ],
   "source": [
    "def format_topics_sentences(ldamodel=lda_model, corpus=corpus, texts=data):\n",
    "    # Init output\n",
    "    sent_topics_df = pd.DataFrame()\n",
    "\n",
    "    # Get main topic in each document\n",
    "    for i, row in enumerate(ldamodel[corpus]):\n",
    "        #row = sorted(row, key=lambda x: (x[1]), reverse=True)\n",
    "        row = sorted(row[0], key=lambda x: (x[1]), reverse=True)\n",
    "        # Get the Dominant topic, Perc Contribution and Keywords for each document\n",
    "        for j, (topic_num, prop_topic) in enumerate(row):\n",
    "            if j == 0:  # => dominant topic\n",
    "                wp = ldamodel.show_topic(topic_num)\n",
    "                topic_keywords = \", \".join([word for word, prop in wp])\n",
    "                sent_topics_df = sent_topics_df.append(pd.Series([int(topic_num), round(prop_topic,4), topic_keywords]), ignore_index=True)\n",
    "            else:\n",
    "                break\n",
    "    sent_topics_df.columns = ['Dominant_Topic', 'Perc_Contribution', 'Topic_Keywords']\n",
    "\n",
    "    # Add original text to the end of the output\n",
    "    contents = pd.Series(texts)\n",
    "    sent_topics_df = pd.concat([sent_topics_df, contents], axis=1)\n",
    "    return(sent_topics_df)\n",
    "\n",
    "\n",
    "df_topic_sents_keywords = format_topics_sentences(ldamodel=optimal_model, corpus=corpus, texts=data)\n",
    "\n",
    "# Format\n",
    "df_dominant_topic = df_topic_sents_keywords.reset_index()\n",
    "df_dominant_topic.columns = ['Document_No', 'Dominant_Topic', 'Topic_Perc_Contrib', 'Keywords', 'Text']\n",
    "\n",
    "# Show\n",
    "df_dominant_topic.head(10)"
   ]
  },
  {
   "cell_type": "code",
   "execution_count": 27,
   "metadata": {},
   "outputs": [
    {
     "data": {
      "text/html": [
       "<div>\n",
       "<style scoped>\n",
       "    .dataframe tbody tr th:only-of-type {\n",
       "        vertical-align: middle;\n",
       "    }\n",
       "\n",
       "    .dataframe tbody tr th {\n",
       "        vertical-align: top;\n",
       "    }\n",
       "\n",
       "    .dataframe thead th {\n",
       "        text-align: right;\n",
       "    }\n",
       "</style>\n",
       "<table border=\"1\" class=\"dataframe\">\n",
       "  <thead>\n",
       "    <tr style=\"text-align: right;\">\n",
       "      <th></th>\n",
       "      <th>Topic_Num</th>\n",
       "      <th>Topic_Perc_Contrib</th>\n",
       "      <th>Keywords</th>\n",
       "      <th>Text</th>\n",
       "    </tr>\n",
       "  </thead>\n",
       "  <tbody>\n",
       "    <tr>\n",
       "      <th>0</th>\n",
       "      <td>0.0</td>\n",
       "      <td>0.9971</td>\n",
       "      <td>cooperativo, recibir, noticiar, siguenos, tiem...</td>\n",
       "      <td>ESCUCHA AQUI RADIO COOPERATIVA RADIO DULCE PA...</td>\n",
       "    </tr>\n",
       "    <tr>\n",
       "      <th>1</th>\n",
       "      <td>1.0</td>\n",
       "      <td>0.9996</td>\n",
       "      <td>tecnologia, mas, nuevo, ciencia, desarrollar, ...</td>\n",
       "      <td>Los programas de reconocimiento facial pueden...</td>\n",
       "    </tr>\n",
       "    <tr>\n",
       "      <th>2</th>\n",
       "      <td>2.0</td>\n",
       "      <td>0.9953</td>\n",
       "      <td>ciudad, newsletter, tecnologia, valor, chile, ...</td>\n",
       "      <td>Ayer Hoy se conmemora el Día Nacional de las ...</td>\n",
       "    </tr>\n",
       "  </tbody>\n",
       "</table>\n",
       "</div>"
      ],
      "text/plain": [
       "   Topic_Num  Topic_Perc_Contrib  \\\n",
       "0        0.0              0.9971   \n",
       "1        1.0              0.9996   \n",
       "2        2.0              0.9953   \n",
       "\n",
       "                                            Keywords  \\\n",
       "0  cooperativo, recibir, noticiar, siguenos, tiem...   \n",
       "1  tecnologia, mas, nuevo, ciencia, desarrollar, ...   \n",
       "2  ciudad, newsletter, tecnologia, valor, chile, ...   \n",
       "\n",
       "                                                Text  \n",
       "0   ESCUCHA AQUI RADIO COOPERATIVA RADIO DULCE PA...  \n",
       "1   Los programas de reconocimiento facial pueden...  \n",
       "2   Ayer Hoy se conmemora el Día Nacional de las ...  "
      ]
     },
     "execution_count": 27,
     "metadata": {},
     "output_type": "execute_result"
    }
   ],
   "source": [
    "# Group top 5 sentences under each topic\n",
    "sent_topics_sorteddf_mallet = pd.DataFrame()\n",
    "\n",
    "sent_topics_outdf_grpd = df_topic_sents_keywords.groupby('Dominant_Topic')\n",
    "\n",
    "for i, grp in sent_topics_outdf_grpd:\n",
    "    sent_topics_sorteddf_mallet = pd.concat([sent_topics_sorteddf_mallet, \n",
    "                                             grp.sort_values(['Perc_Contribution'], ascending=[0]).head(1)], \n",
    "                                            axis=0)\n",
    "\n",
    "# Reset Index    \n",
    "sent_topics_sorteddf_mallet.reset_index(drop=True, inplace=True)\n",
    "\n",
    "# Format\n",
    "sent_topics_sorteddf_mallet.columns = ['Topic_Num', \"Topic_Perc_Contrib\", \"Keywords\", \"Text\"]\n",
    "\n",
    "# Show\n",
    "sent_topics_sorteddf_mallet.head()"
   ]
  },
  {
   "cell_type": "code",
   "execution_count": 28,
   "metadata": {},
   "outputs": [
    {
     "data": {
      "text/plain": [
       "' ESCUCHA AQUI RADIO COOPERATIVA RADIO DULCE PATRIA R. Vehicular: No aplica Todo Deportes País Mundo Entretención 1 Photosport El técnico Mario Salas ya definió la alineación titular de Universidad Católica para jugar ante Unión Española en la segunda fecha del Torneo de Transición. Arquero: Cristopher Toselli. Todas Cultura Deportes Economía Entretención Mundo País Sociedad Tecnología En la versión móvil de cooperativa.cl vea todas las noticias en el instante en que suceden. Reciba directamente en su correo electrónico los últimos titulares de cooperativa.cl Reciba gratis y en tiempo real las noticias de cooperativa.cl Reciba gratis y en tiempo real el audio digital de los programas radiales Síguenos en Facebook Síguenos en Twitter'"
      ]
     },
     "execution_count": 28,
     "metadata": {},
     "output_type": "execute_result"
    }
   ],
   "source": [
    "sent_topics_sorteddf_mallet[\"Text\"][0]"
   ]
  },
  {
   "cell_type": "code",
   "execution_count": 29,
   "metadata": {},
   "outputs": [
    {
     "data": {
      "text/plain": [
       "' Los programas de reconocimiento facial pueden medir decenas de características individuales. Helena de Troya bien pudo ser, en las palabras del dramaturgo isabelino Christopher Marlowe la mujer cuya \"cara lanzó mil embarcaciones\". Pero, en esta esta época moderna, su rostro también podría lanzar muchas otras cosas. Por ejemplo, abrir cuentas bancarias, autorizar pagos online, acelerar el paso por la seguridad aeroportuaria o incluso activar alarmas, si por ejemplo se le identifica como un potencial riesgo al entrar en una ciudad (Troya, ¿quizás?) Todo debido a que la tecnología de reconocimiento facial ha evolucionado a una velocidad vertiginosa, con consecuencias que podrían ser benignas o completamente siniestras, dependiendo del punto de vista. Las cámaras de alta definición, combinadas con software inteligente capaz de medir decenas de \"puntos nodales\" en nuestras caras -como la distancia entre los ojos, la longitud o anchura de la nariz, por ejemplo- están siendo incorporados al aprendizaje de máquinas que crean un eternamente creciente banco de imágenes. Y las aplicaciones de esta tecnología están apareciendo por todas partes en el mundo. En China, por ejemplo, la cadena de pollo frito KFC recientemente lanzó su primer \"restaurante inteligente\" que utiliza el reconocimiento facial para predecir el plato que el cliente probablemente quiere, basado en su edad, género y la hora del día. Mientras que la gigante empresa de pagos Alipay está experimentando con la tecnología \"sonríe para pagar\". De la misma manera, en Estados Unidos, la compañía de tecnología médica NextGate ha desarrollado un sistema de reconocimiento facial que puede identificar a los pacientes y vincularlos a sus historias médicas. Mientras que en Israel la firma de \"discriminación facial\" Faception afirma que su tecnología inclusive es capaz de discriminar si eres terrorista, extrovertido, pedófilo, genio o jugador profesional de póker con el análisis de 15 detalles de tu cara que son invisibles al ojo desnudo. Luego utiliza esa información para determinar los rasgos de tu personalidad con un 80% de precisión, según la firma. Y otro ejemplo es la aplicación rusa FindFace, que permite vincular una foto que hayas tomado de alguien con su perfil en la más popular plataforma social del país, Vkontakte. En teoría, podrías rastrear a un completo extraño que hayas fotografiado en un autobús o un tren. \"Hay muchas aplicaciones potenciales de tecnología de reconocimiento facial robustas y confiables\", resume el profesor Josef Kittler, del Centro para el Procesamiento de Visión, Habla y Señales de la Universidad de Surrey, en Reino Unido. \"Los usos incluyen la seguridad y vigilancia de negocios, verificación de identidad para transacciones comerciales, trato personalizado a clientes asiduos y análisis de la reacción del consumidor a los despliegues publicitarios\", explica. Actualmente, su universidad lidera un proyecto de investigación conjunto de US$6 millones financiado por el Consejo de Investigación de la Ingeniería y Ciencias para desarrollar la siguiente generación de tecnología de reconocimiento facial. Uno de los principales impulsores de la tecnología es el sector de seguridad. Carl Gohringer, fundador y director de Allevate, una firma de reconocimiento facial que trabaja con agencias de seguridad, inteligencia y gobierno dice: \"La cantidad de medios -como videos, fotos- que están a nuestra disposición como individuos, organizaciones y negocios, y para las agencias de inteligencia y seguridad, es asombrosa\". \"Nos encontramos mucho más allá del punto en que todo está disponible para ser usado o visto por nosotros como seres humanos. Así que se aplicará tecnología que resulte en nuevos e interesantes mecanismos para evaluar, analizar, ordenar, estructurar y procesar este campo minado visual\", explica. Las máquinas capaces de aprender algoritmos pueden escudriñar este vasto almacén de datos y mejorar a medida que lo hacen. Herramientas como FaceSearch, de Vigilant Solutions, analizan más de 350 aspectos de la cara humana, permitiendo comparar a sospechosos con una base de datos en la nube de más de 15 millones de fotos de prontuario. Pero Roger Rodríguez, director de desarrollo de seguridad pública empresarial de Vigilant Solutions, dice que dicha tecnología también tiene bastantes aplicaciones en los negocios. \"¿Quieres atender a ese cliente exclusivo derrochador cuando entre en tu establecimiento?\", pregunta. \"La tecnología de reconocimiento facial puede enviar alertas instantáneas para alertar cuando ese cliente entra\", explica. \"O podría ser utilizada en un crucero para registrar de vuelta a los pasajeros después de que hayan desembarcado para un excursión terrestre\", agrega. Los negocios que buscan tener una ventaja competitiva ven la tecnología como algo revolucionario que \"cambia las reglas del juego\", aseguró. Pero, ¿cuánta privacidad se estará sacrificando? Un informe del Centro de Leyes de Georgetown sobre Privacidad y Tecnología estima que más o menos la mitad de los adultos en EE.UU. -más de 117 millones de personas- tienen imágenes suyas registradas en una red de reconocimiento facial de algún tipo, una tendencia que la organización de libertades civiles Electronic Frontier Foundation describe como una \"amenaza real e inmediata\" a la privacidad. La Agencia de Seguridad Nacional de EE.UU., NSA, ha estado recogiendo esas imágenes durante años. Y las autoridades parecen más interesadas que nunca en usar la tecnología, invocando la seguridad y el orden público como las principales razones. Recientemente, se reveló que la ciudad de Nueva York planea instalar sistemas de reconocimiento facial en puentes y túneles para escanear e identificar a los conductores que entran y salen. El la Unión Europea, dicha tecnología debe cumplir con la Directiva de Protección de Datos de la UE y, a partir de mayo del próximo año, con la Regulación General de Protección de Datos. Pero Ruth Boardman, especialista en privacidad de datos de la firma legal internacional Bird & Bird, dice que los derechos del individuo variaran de un país de la UE a otro. Además, la automatización de decisiones sobre seguridad basadas en escrutinios hechos con tecnología de reconocimiento facial plantea serios problemas de privacidad. \"Actualmente, en algunos países esto no es permitido\", explica Boardman. \"En otros, como en Reino Unido, se permite siempre y cuando haya salvaguardas adecuadas -por ejemplo, permitiendo que cualquiera que crea que se haya cometido un error pueda pedir una revisión de la decisión\". Servirá tal vez de alguna garantía, pero será de poco consuelo si te encuentras vetado de un lugar porque algún software de reconocimiento facial te haya confundido con un Al Capone moderno.'"
      ]
     },
     "execution_count": 29,
     "metadata": {},
     "output_type": "execute_result"
    }
   ],
   "source": [
    "sent_topics_sorteddf_mallet[\"Text\"][1]"
   ]
  },
  {
   "cell_type": "code",
   "execution_count": 30,
   "metadata": {},
   "outputs": [
    {
     "data": {
      "text/plain": [
       "' Ayer Hoy se conmemora el Día Nacional de las Frutas y Verduras, impulasado por el Instituto de Nutrición y Tecnología de los Alimentos (INTA) de la Universidad de Chile y el Ministerio de Agricultura. Nutricionista de la Clínica Bupa Reñaca explica sus beneficios. Publicado por: Ayskée Solís Empresa El Mercurio de Valparaíso SAP Contáctenos Anunciar en este sitio Términos y condiciones Autos Emol Valor Futuro Farox Guioteca Inmobiliaria Propiedades hoyxhoy.cl Pronto recibirás nuestros correos Suscríbete al newsletter de soychile.cl y entérate de lo que sucede en tu ciudad, en Chile y el mundo. Elige tu ciudad ¿Cuándo quieres recibir nuestro newsletter?'"
      ]
     },
     "execution_count": 30,
     "metadata": {},
     "output_type": "execute_result"
    }
   ],
   "source": [
    "sent_topics_sorteddf_mallet[\"Text\"][2]"
   ]
  },
  {
   "cell_type": "code",
   "execution_count": null,
   "metadata": {},
   "outputs": [],
   "source": []
  }
 ],
 "metadata": {
  "kernelspec": {
   "display_name": "Python 3",
   "language": "python",
   "name": "python3"
  },
  "language_info": {
   "codemirror_mode": {
    "name": "ipython",
    "version": 3
   },
   "file_extension": ".py",
   "mimetype": "text/x-python",
   "name": "python",
   "nbconvert_exporter": "python",
   "pygments_lexer": "ipython3",
   "version": "3.7.3"
  }
 },
 "nbformat": 4,
 "nbformat_minor": 2
}
